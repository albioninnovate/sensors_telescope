{
 "cells": [
  {
   "cell_type": "code",
   "execution_count": 1,
   "id": "assumed-fossil",
   "metadata": {},
   "outputs": [],
   "source": [
    "from astropy.coordinates import SkyCoord, EarthLocation, AltAz\n",
    "import astropy.units as u\n",
    "from astropy.time import Time\n",
    "from astropy.coordinates import SkyCoord, EarthLocation, AltAz\n",
    "\n",
    "import datetime\n",
    "\n",
    "#get current date and time\n",
    "now = datetime.datetime.now()"
   ]
  },
  {
   "cell_type": "code",
   "execution_count": 2,
   "id": "entertaining-andrews",
   "metadata": {},
   "outputs": [
    {
     "data": {
      "text/latex": [
       "$(3915075.4, 6161.6808, 5018297.6) \\; \\mathrm{m}$"
      ],
      "text/plain": [
       "<EarthLocation (3915075.44162589, 6161.68079673, 5018297.59294014) m>"
      ]
     },
     "execution_count": 2,
     "metadata": {},
     "output_type": "execute_result"
    }
   ],
   "source": [
    "# place   = [:lat, :lon, :height]\n",
    "\n",
    "# CB3 0LU is 52°13'33.2\"N 0°05'21.2\"E\n",
    "\n",
    "\n",
    "AlbionHouse = {'lat' : 52.226522, \n",
    "               'lon' : 0.090174 , \n",
    "               'height' : 20}\n",
    "\n",
    "\n",
    "\n",
    "utcoffset = +1*u.hour  # BST\n",
    "now = str(now)\n",
    "#time = Time('2012-7-12 23:00:00') - utcoffset\n",
    "time = Time(now) - utcoffset\n",
    "\n",
    "\n",
    "obs_location  = EarthLocation(lat=AlbionHouse['lat']*u.deg, \n",
    "                              lon=AlbionHouse['lon']*u.deg, \n",
    "                              height=AlbionHouse['height']*u.m)\n",
    "\n",
    "#obs_location = EarthLocation(lat=41.3*u.deg, \n",
    "#                              lon=-74*u.deg, \n",
    "#                              height=390*u.m)\n",
    "\n",
    "obs_location"
   ]
  },
  {
   "cell_type": "code",
   "execution_count": 3,
   "id": "approximate-consideration",
   "metadata": {},
   "outputs": [],
   "source": [
    "location = AlbionHouse\n",
    "target = 'polaris' "
   ]
  },
  {
   "cell_type": "code",
   "execution_count": 4,
   "id": "announced-village",
   "metadata": {},
   "outputs": [
    {
     "data": {
      "text/plain": [
       "<SkyCoord (ICRS): (ra, dec) in deg\n",
       "    (37.95456067, 89.26410897)>"
      ]
     },
     "execution_count": 4,
     "metadata": {},
     "output_type": "execute_result"
    }
   ],
   "source": [
    "#m33 = SkyCoord.from_name('M33')\n",
    "target_coord  = SkyCoord.from_name(target)\n",
    "target_coord"
   ]
  },
  {
   "cell_type": "code",
   "execution_count": 12,
   "id": "concerned-facing",
   "metadata": {},
   "outputs": [
    {
     "name": "stdout",
     "output_type": "stream",
     "text": [
      "Target's Altitude = 5.3e+01 deg\n",
      "Target's Azmith = 3.6e+02 deg\n",
      "359.5165651079678 deg2\n"
     ]
    }
   ],
   "source": [
    "altaz = target_coord.transform_to(AltAz(obstime=time,location=obs_location))\n",
    "print(\"Target's Altitude = {0.alt:.2}\".format(altaz))\n",
    "print(\"Target's Azmith = {0.az:.3}\".format(altaz))\n",
    "print(altaz.az*u.deg)"
   ]
  },
  {
   "cell_type": "code",
   "execution_count": null,
   "id": "abandoned-sixth",
   "metadata": {},
   "outputs": [],
   "source": []
  },
  {
   "cell_type": "code",
   "execution_count": null,
   "id": "voluntary-clark",
   "metadata": {},
   "outputs": [],
   "source": []
  }
 ],
 "metadata": {
  "kernelspec": {
   "display_name": "Python 3",
   "language": "python",
   "name": "python3"
  },
  "language_info": {
   "codemirror_mode": {
    "name": "ipython",
    "version": 3
   },
   "file_extension": ".py",
   "mimetype": "text/x-python",
   "name": "python",
   "nbconvert_exporter": "python",
   "pygments_lexer": "ipython3",
   "version": "3.8.8"
  }
 },
 "nbformat": 4,
 "nbformat_minor": 5
}
